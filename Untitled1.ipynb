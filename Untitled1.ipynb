{
 "cells": [
  {
   "cell_type": "code",
   "execution_count": 50,
   "metadata": {},
   "outputs": [],
   "source": [
    "import datetime as dt\n",
    "from matplotlib import pyplot as plt\n",
    "from matplotlib import style\n",
    "import pandas as pd\n",
    "import pandas_datareader.data as web\n",
    "import pickle\n",
    "from csv import DictReader\n",
    "\n",
    "import rule_one_investing as ro"
   ]
  },
  {
   "cell_type": "code",
   "execution_count": 2,
   "metadata": {},
   "outputs": [
    {
     "data": {
      "text/plain": [
       "496"
      ]
     },
     "execution_count": 2,
     "metadata": {},
     "output_type": "execute_result"
    }
   ],
   "source": [
    "stocks_fn = \"./ticker_symbols.txt\"\n",
    "with open(stocks_fn) as infile:\n",
    "    tickers = [l.strip() for l in infile]\n",
    "len(tickers)\n",
    "tickers.append('SPY')"
   ]
  },
  {
   "cell_type": "code",
   "execution_count": 64,
   "metadata": {},
   "outputs": [],
   "source": [
    "constituents_fn = \"./constituents.csv\"\n",
    "ticker_name_dict = {}\n",
    "ticker_sector_dict = {}\n",
    "with open(constituents_fn) as csvfile:\n",
    "    reader = DictReader(csvfile)\n",
    "    for row in reader:\n",
    "        ticker_name_dict[row['Symbol']] = row['Name']\n",
    "        ticker_sector_dict[row['Symbol']] = row['Sector']\n"
   ]
  },
  {
   "cell_type": "code",
   "execution_count": 3,
   "metadata": {},
   "outputs": [],
   "source": [
    "start = dt.datetime(2018,6,12)\n",
    "end = dt.datetime(2019,6,12)\n",
    "df = web.DataReader('MSFT','iex', start, end)"
   ]
  },
  {
   "cell_type": "code",
   "execution_count": null,
   "metadata": {},
   "outputs": [],
   "source": [
    "df.head()"
   ]
  },
  {
   "cell_type": "code",
   "execution_count": null,
   "metadata": {},
   "outputs": [],
   "source": [
    "df.loc['2018-06-12']"
   ]
  },
  {
   "cell_type": "code",
   "execution_count": null,
   "metadata": {},
   "outputs": [],
   "source": [
    "df_dict = {}\n",
    "for i, ticker in enumerate(tickers):\n",
    "    if not i%50:\n",
    "        print(i)\n",
    "    try:\n",
    "        df_dict[ticker] = web.DataReader(ticker,'iex', start, end)\n",
    "    except:\n",
    "        print(\"Could not get data for: {}\".format(ticker))"
   ]
  },
  {
   "cell_type": "code",
   "execution_count": 5,
   "metadata": {},
   "outputs": [],
   "source": [
    "# pickle.dump(df_dict, open( \"df_dict.p\", \"wb\" ) )\n",
    "df_dict = pickle.load( open( \"df_dict.p\", \"rb\" ) )"
   ]
  },
  {
   "cell_type": "code",
   "execution_count": null,
   "metadata": {},
   "outputs": [],
   "source": [
    "df_dict['MSFT'].loc['2019-06-12']['close']\n",
    "df_dict['MSFT'].loc['2019-03-12']['close']\n",
    "df_dict['MSFT'].loc['2018-12-12']['close']\n",
    "df_dict['MSFT'].loc['2018-06-12']['close']\n"
   ]
  },
  {
   "cell_type": "code",
   "execution_count": 32,
   "metadata": {},
   "outputs": [],
   "source": [
    "def percent_change(old, new):\n",
    "    if old == 0:\n",
    "        return 0\n",
    "    return 100*(new-old)/(old)\n",
    "\n",
    "def calc_stock_perf(ticker, df_dict=df_dict):\n",
    "    df = df_dict[ticker]\n",
    "    try:\n",
    "        closing_price = df.loc['2019-06-12']['close']\n",
    "        \n",
    "        historical_price = {}\n",
    "        historical_price[1] = df.loc['2019-05-13']['close']\n",
    "        historical_price[2] = df.loc['2019-04-12']['close']\n",
    "        historical_price[3] = df.loc['2019-03-12']['close']\n",
    "        historical_price[4] = df.loc['2019-02-12']['close']\n",
    "        historical_price[5] = df.loc['2019-01-11']['close']\n",
    "        historical_price[6] = df.loc['2018-12-12']['close']\n",
    "        historical_price[7] = df.loc['2018-11-12']['close']\n",
    "        historical_price[8] = df.loc['2018-10-12']['close']\n",
    "        historical_price[9] = df.loc['2018-09-12']['close']\n",
    "        historical_price[10] = df.loc['2018-08-13']['close']\n",
    "        historical_price[11] = df.loc['2018-07-12']['close']\n",
    "        historical_price[12] = df.loc['2018-06-12']['close']\n",
    "    except:\n",
    "        print(\"Missing data for {}\".format(ticker))\n",
    "        return [0]*12\n",
    "    \n",
    "    one_year_perf = []\n",
    "    for i in range(1,13):\n",
    "        one_year_perf.append(percent_change(historical_price[i], closing_price))\n",
    "        \n",
    "    assert len(one_year_perf) == 12\n",
    "    \n",
    "    return one_year_perf\n",
    "\n",
    "def all_positive(tup):\n",
    "    return all(x > 0 for x in tup)\n",
    "\n",
    "def better_over_time(tup):\n",
    "    return all(i < j for i, j in zip(tup, tup[1:]))\n",
    "\n",
    "def better_than_SPY(ticker, df_dict=df_dict):\n",
    "    ticker_perf = calc_stock_perf(ticker)\n",
    "    spy_perf = calc_stock_perf('SPY')\n",
    "    return all(x>y for (x,y) in zip(ticker_perf, spy_perf))\n",
    "\n",
    "\n"
   ]
  },
  {
   "cell_type": "code",
   "execution_count": null,
   "metadata": {},
   "outputs": [],
   "source": [
    "calc_stock_perf('MSFT')"
   ]
  },
  {
   "cell_type": "code",
   "execution_count": null,
   "metadata": {},
   "outputs": [],
   "source": [
    "test_list = [1, 4, 5, 7, 8, 10] \n",
    "list(zip(test_list, test_list[1:]))"
   ]
  },
  {
   "cell_type": "code",
   "execution_count": null,
   "metadata": {},
   "outputs": [],
   "source": [
    "test_list\n",
    "test_list[1:]"
   ]
  },
  {
   "cell_type": "code",
   "execution_count": null,
   "metadata": {},
   "outputs": [],
   "source": [
    "filtered_tickers = []\n",
    "for ticker in df_dict.keys():\n",
    "    perf = calc_stock_perf(ticker)\n",
    "#     if all_positive(perf) and better_over_time(perf):\n",
    "    if all_positive(perf):\n",
    "        print(ticker, perf)\n",
    "        filtered_tickers.append(ticker)\n",
    "print(len(filtered_tickers))"
   ]
  },
  {
   "cell_type": "code",
   "execution_count": null,
   "metadata": {},
   "outputs": [],
   "source": [
    "len(filtered_tickers)\n",
    "for ticker in filtered_tickers:\n",
    "    print(ticker)"
   ]
  },
  {
   "cell_type": "code",
   "execution_count": null,
   "metadata": {
    "scrolled": false
   },
   "outputs": [],
   "source": [
    "for ticker in filtered_tickers:\n",
    "    closing_prices = df_dict[ticker]['close']\n",
    "    macd, signal_line = ro.calc_macd(closing_prices)\n",
    "    if macd[-1] > signal_line[-1] and any(macd[i] < signal_line[i] for i in [-2, -3, -4, -5]):\n",
    "        plt.figure(figsize=(30,20))\n",
    "        plt.plot(macd)\n",
    "        plt.plot(signal_line)\n",
    "\n",
    "        axes = plt.gca()\n",
    "        axes.set_ylim([-3, 3])\n",
    "        axes.set_xlim([0, 366])\n",
    "        ticker\n",
    "        len(macd)\n",
    "        len(signal_line)\n"
   ]
  },
  {
   "cell_type": "code",
   "execution_count": null,
   "metadata": {},
   "outputs": [],
   "source": [
    "count = 0\n",
    "for ticker in filtered_tickers:\n",
    "    closing_prices = df_dict[ticker]['close']\n",
    "    macd, macd_signal_line = ro.calc_macd(closing_prices)\n",
    "    stochastic, stoch_signal_line = ro.calc_stochastic(closing_prices)\n",
    "    moving_average = ro.calc_moving_average(closing_prices)\n",
    "    if (macd[-1] > macd_signal_line[-1] and \n",
    "        stochastic[-1] > stoch_signal_line[-1] and \n",
    "        closing_prices[-1] > moving_average[-1] and\n",
    "        any(macd[i] < macd_signal_line[i] for i in [-2, -3, -4])):\n",
    "        print(ticker)\n",
    "        count +=1\n",
    "print(count)\n",
    "print(len(filtered_tickers))\n"
   ]
  },
  {
   "cell_type": "code",
   "execution_count": null,
   "metadata": {},
   "outputs": [],
   "source": [
    "df = web.DataReader('SPY','iex', start, end)\n",
    "df_dict['SPY'] = df"
   ]
  },
  {
   "cell_type": "code",
   "execution_count": null,
   "metadata": {},
   "outputs": [],
   "source": [
    "filtered_tickers = []\n",
    "perf_spy = calc_stock_perf('SPY')\n",
    "for ticker in df_dict.keys():\n",
    "    perf = calc_stock_perf(ticker)\n",
    "    if all(perf[i] > perf_spy[i] for i in [0, 1, 2]):\n",
    "        filtered_tickers.append(ticker)\n",
    "len(filtered_tickers)"
   ]
  },
  {
   "cell_type": "code",
   "execution_count": null,
   "metadata": {},
   "outputs": [],
   "source": [
    "perf_spy\n",
    "for ticker in filtered_tickers:\n",
    "    print(ticker, calc_stock_perf(ticker))"
   ]
  },
  {
   "cell_type": "code",
   "execution_count": null,
   "metadata": {},
   "outputs": [],
   "source": [
    "df = df_dict['MSFT']\n",
    "closing_prices = df.close\n",
    "macd, macd_signal_line = ro.calc_macd(closing_prices)\n",
    "stochastic, stoch_signal_line = ro.calc_stochastic(closing_prices)\n",
    "moving_average = ro.calc_moving_average(closing_prices)\n",
    "action = []\n",
    "for i in range(len(closing_prices)):\n",
    "    if (macd[i] > macd_signal_line[i] and \n",
    "        stochastic[i] > stoch_signal_line[i] and \n",
    "        closing_prices[i] > moving_average[i]):\n",
    "        action.append('BUY')\n",
    "    elif (macd[i] < macd_signal_line[i] and \n",
    "        stochastic[i] < stoch_signal_line[i] and \n",
    "        closing_prices[i] < moving_average[i]):\n",
    "        action.append('SELL')\n",
    "    else:\n",
    "        action.append('HOLD')\n"
   ]
  },
  {
   "cell_type": "code",
   "execution_count": null,
   "metadata": {},
   "outputs": [],
   "source": [
    "for act, price in zip(action, closing_prices):\n",
    "    print(\"{}\\t{}\".format(act, price))"
   ]
  },
  {
   "cell_type": "code",
   "execution_count": null,
   "metadata": {},
   "outputs": [],
   "source": [
    "trades = [('BUY', 122.915), ('SELL', 125.7445), ('BUY', 127.82), ('SELL', 131.49)]\n",
    "current_price = 131.49\n",
    "\n",
    "def calc_value(trades, starting_wallet=1000):\n",
    "    wallet = starting_wallet\n",
    "    print(\"starting wallet: \", wallet)\n",
    "    shares = 0\n",
    "    for action, price in trades:\n",
    "        if action == \"BUY\":\n",
    "            shares_can_afford = int(wallet/price)\n",
    "            shares += shares_can_afford\n",
    "            wallet -= price*shares_can_afford\n",
    "            print(\"Buy {} shares at ${}, so wallet now has: {}\".format(shares, price, wallet))\n",
    "        elif action == 'SELL':\n",
    "            wallet += price*shares\n",
    "            print(\"Sell {} shares at ${}, so wallet now has: {}\".format(shares, price, wallet))\n",
    "            shares = 0\n",
    "\n",
    "\n",
    "calc_value(trades)\n",
    "\n"
   ]
  },
  {
   "cell_type": "code",
   "execution_count": null,
   "metadata": {},
   "outputs": [],
   "source": [
    "trades = [('BUY', 122.915), ('SELL', 131.49)]\n",
    "calc_value(trades)\n"
   ]
  },
  {
   "cell_type": "code",
   "execution_count": 33,
   "metadata": {},
   "outputs": [
    {
     "data": {
      "text/plain": [
       "[6.993688112870252,\n",
       " 9.11680036911669,\n",
       " 16.15621770125707,\n",
       " 23.9969861254266,\n",
       " 28.930345843959877,\n",
       " 21.50754744006173,\n",
       " 24.555969194918884,\n",
       " 21.486666401808684,\n",
       " 19.159386667633317,\n",
       " 23.48693521561144,\n",
       " 28.251520847090145,\n",
       " 31.89743116486828]"
      ]
     },
     "execution_count": 33,
     "metadata": {},
     "output_type": "execute_result"
    },
    {
     "data": {
      "text/plain": [
       "[2.6810510574663433,\n",
       " -0.6100082712986071,\n",
       " 3.6389158217262474,\n",
       " 5.676923742148148,\n",
       " 11.846654625799061,\n",
       " 9.753772345885555,\n",
       " 6.8908437627178065,\n",
       " 5.581555243876588,\n",
       " 1.2281534944405044,\n",
       " 3.7471876845947367,\n",
       " 4.76101563586946,\n",
       " 5.401040377965736]"
      ]
     },
     "execution_count": 33,
     "metadata": {},
     "output_type": "execute_result"
    }
   ],
   "source": [
    "calc_stock_perf('MSFT')\n",
    "calc_stock_perf('SPY')"
   ]
  },
  {
   "cell_type": "code",
   "execution_count": 34,
   "metadata": {},
   "outputs": [
    {
     "data": {
      "text/plain": [
       "True"
      ]
     },
     "execution_count": 34,
     "metadata": {},
     "output_type": "execute_result"
    },
    {
     "data": {
      "text/plain": [
       "True"
      ]
     },
     "execution_count": 34,
     "metadata": {},
     "output_type": "execute_result"
    }
   ],
   "source": [
    "better_than_SPY('MSFT')\n",
    "better_than_SPY('V')"
   ]
  },
  {
   "cell_type": "code",
   "execution_count": 40,
   "metadata": {
    "scrolled": false
   },
   "outputs": [
    {
     "name": "stdout",
     "output_type": "stream",
     "text": [
      "ABT\n",
      "ACN\n",
      "ADBE\n",
      "Missing data for AET\n",
      "AFL\n",
      "APD\n",
      "ALLE\n",
      "ALL\n",
      "AEE\n",
      "AEP\n",
      "AXP\n",
      "AMT\n",
      "AON\n",
      "ADP\n",
      "AZO\n",
      "AVB\n",
      "BLL\n",
      "Missing data for BCR\n",
      "Missing data for CA\n",
      "CPB\n",
      "KMX\n",
      "Missing data for CBG\n",
      "CERN\n",
      "CMG\n",
      "CB\n",
      "CINF\n",
      "CTAS\n",
      "Missing data for CCE\n",
      "COST\n",
      "CCI\n",
      "DHR\n",
      "XRAY\n",
      "DG\n",
      "DOV\n",
      "Missing data for DOW\n",
      "Missing data for DPS\n",
      "Missing data for DD\n",
      "Missing data for DNB\n",
      "ECL\n",
      "ETR\n",
      "EQIX\n",
      "ESS\n",
      "EL\n",
      "ES\n",
      "Missing data for ESRX\n",
      "FIS\n",
      "Missing data for GGP\n",
      "HRS\n",
      "HIG\n",
      "HAS\n",
      "Missing data for HCN\n",
      "HON\n",
      "IR\n",
      "ICE\n",
      "KMB\n",
      "LLL\n",
      "LM\n",
      "Missing data for LUK\n",
      "LMT\n",
      "L\n",
      "MMC\n",
      "MA\n",
      "MCD\n",
      "Missing data for MMV\n",
      "MET\n",
      "Missing data for KORS\n",
      "MSFT\n",
      "MDLZ\n",
      "Missing data for MON\n",
      "MNST\n",
      "MCO\n",
      "MSI\n",
      "Missing data for NFX\n",
      "NEE\n",
      "PAYX\n",
      "PEP\n",
      "PPG\n",
      "Missing data for PX\n",
      "Missing data for PCLN\n",
      "PG\n",
      "PGR\n",
      "PLD\n",
      "PSA\n",
      "RSG\n",
      "Missing data for COL\n",
      "ROP\n",
      "Missing data for SCG\n",
      "Missing data for SNI\n",
      "SRE\n",
      "SHW\n",
      "SO\n",
      "SE\n",
      "SBUX\n",
      "HSY\n",
      "TRV\n",
      "TMO\n",
      "Missing data for TWX\n",
      "TSS\n",
      "TSCO\n",
      "Missing data for FOXA\n",
      "TSN\n",
      "VRSN\n",
      "V\n",
      "DIS\n",
      "WM\n",
      "WEC\n",
      "Missing data for WYN\n",
      "XEL\n",
      "XRX\n",
      "Missing data for XL\n",
      "YUM\n",
      "ZTS\n",
      "86\n"
     ]
    }
   ],
   "source": [
    "count = 0\n",
    "stocks_beat_SPY = []\n",
    "for ticker in df_dict.keys():\n",
    "    if better_than_SPY(ticker):\n",
    "        print(ticker)\n",
    "        stocks_beat_SPY.append(ticker)\n",
    "        count+=1\n",
    "print(count)"
   ]
  },
  {
   "cell_type": "code",
   "execution_count": 20,
   "metadata": {},
   "outputs": [
    {
     "data": {
      "text/html": [
       "<div>\n",
       "<style scoped>\n",
       "    .dataframe tbody tr th:only-of-type {\n",
       "        vertical-align: middle;\n",
       "    }\n",
       "\n",
       "    .dataframe tbody tr th {\n",
       "        vertical-align: top;\n",
       "    }\n",
       "\n",
       "    .dataframe thead th {\n",
       "        text-align: right;\n",
       "    }\n",
       "</style>\n",
       "<table border=\"1\" class=\"dataframe\">\n",
       "  <thead>\n",
       "    <tr style=\"text-align: right;\">\n",
       "      <th></th>\n",
       "      <th>open</th>\n",
       "      <th>high</th>\n",
       "      <th>low</th>\n",
       "      <th>close</th>\n",
       "      <th>volume</th>\n",
       "    </tr>\n",
       "    <tr>\n",
       "      <th>date</th>\n",
       "      <th></th>\n",
       "      <th></th>\n",
       "      <th></th>\n",
       "      <th></th>\n",
       "      <th></th>\n",
       "    </tr>\n",
       "  </thead>\n",
       "  <tbody>\n",
       "    <tr>\n",
       "      <th>2018-06-12</th>\n",
       "      <td>133.1614</td>\n",
       "      <td>134.2432</td>\n",
       "      <td>132.6647</td>\n",
       "      <td>133.9760</td>\n",
       "      <td>5743302</td>\n",
       "    </tr>\n",
       "    <tr>\n",
       "      <th>2018-06-13</th>\n",
       "      <td>134.2939</td>\n",
       "      <td>134.8800</td>\n",
       "      <td>133.4296</td>\n",
       "      <td>133.5190</td>\n",
       "      <td>4881581</td>\n",
       "    </tr>\n",
       "    <tr>\n",
       "      <th>2018-06-14</th>\n",
       "      <td>134.0754</td>\n",
       "      <td>134.8105</td>\n",
       "      <td>133.8667</td>\n",
       "      <td>134.1151</td>\n",
       "      <td>6464068</td>\n",
       "    </tr>\n",
       "    <tr>\n",
       "      <th>2018-06-15</th>\n",
       "      <td>134.2144</td>\n",
       "      <td>134.8403</td>\n",
       "      <td>133.1216</td>\n",
       "      <td>134.2144</td>\n",
       "      <td>10044514</td>\n",
       "    </tr>\n",
       "    <tr>\n",
       "      <th>2018-06-18</th>\n",
       "      <td>133.4892</td>\n",
       "      <td>135.4165</td>\n",
       "      <td>133.2409</td>\n",
       "      <td>135.3072</td>\n",
       "      <td>8713298</td>\n",
       "    </tr>\n",
       "  </tbody>\n",
       "</table>\n",
       "</div>"
      ],
      "text/plain": [
       "                open      high       low     close    volume\n",
       "date                                                        \n",
       "2018-06-12  133.1614  134.2432  132.6647  133.9760   5743302\n",
       "2018-06-13  134.2939  134.8800  133.4296  133.5190   4881581\n",
       "2018-06-14  134.0754  134.8105  133.8667  134.1151   6464068\n",
       "2018-06-15  134.2144  134.8403  133.1216  134.2144  10044514\n",
       "2018-06-18  133.4892  135.4165  133.2409  135.3072   8713298"
      ]
     },
     "execution_count": 20,
     "metadata": {},
     "output_type": "execute_result"
    },
    {
     "data": {
      "text/html": [
       "<div>\n",
       "<style scoped>\n",
       "    .dataframe tbody tr th:only-of-type {\n",
       "        vertical-align: middle;\n",
       "    }\n",
       "\n",
       "    .dataframe tbody tr th {\n",
       "        vertical-align: top;\n",
       "    }\n",
       "\n",
       "    .dataframe thead th {\n",
       "        text-align: right;\n",
       "    }\n",
       "</style>\n",
       "<table border=\"1\" class=\"dataframe\">\n",
       "  <thead>\n",
       "    <tr style=\"text-align: right;\">\n",
       "      <th></th>\n",
       "      <th>open</th>\n",
       "      <th>high</th>\n",
       "      <th>low</th>\n",
       "      <th>close</th>\n",
       "      <th>volume</th>\n",
       "    </tr>\n",
       "    <tr>\n",
       "      <th>date</th>\n",
       "      <th></th>\n",
       "      <th></th>\n",
       "      <th></th>\n",
       "      <th></th>\n",
       "      <th></th>\n",
       "    </tr>\n",
       "  </thead>\n",
       "  <tbody>\n",
       "    <tr>\n",
       "      <th>2019-06-06</th>\n",
       "      <td>165.88</td>\n",
       "      <td>167.40</td>\n",
       "      <td>164.94</td>\n",
       "      <td>166.92</td>\n",
       "      <td>13738473</td>\n",
       "    </tr>\n",
       "    <tr>\n",
       "      <th>2019-06-07</th>\n",
       "      <td>168.00</td>\n",
       "      <td>171.61</td>\n",
       "      <td>167.80</td>\n",
       "      <td>170.05</td>\n",
       "      <td>10529165</td>\n",
       "    </tr>\n",
       "    <tr>\n",
       "      <th>2019-06-10</th>\n",
       "      <td>171.84</td>\n",
       "      <td>172.02</td>\n",
       "      <td>170.51</td>\n",
       "      <td>170.82</td>\n",
       "      <td>7565924</td>\n",
       "    </tr>\n",
       "    <tr>\n",
       "      <th>2019-06-11</th>\n",
       "      <td>171.95</td>\n",
       "      <td>172.18</td>\n",
       "      <td>168.42</td>\n",
       "      <td>170.31</td>\n",
       "      <td>6083065</td>\n",
       "    </tr>\n",
       "    <tr>\n",
       "      <th>2019-06-12</th>\n",
       "      <td>170.38</td>\n",
       "      <td>171.62</td>\n",
       "      <td>169.70</td>\n",
       "      <td>171.59</td>\n",
       "      <td>6772048</td>\n",
       "    </tr>\n",
       "  </tbody>\n",
       "</table>\n",
       "</div>"
      ],
      "text/plain": [
       "              open    high     low   close    volume\n",
       "date                                                \n",
       "2019-06-06  165.88  167.40  164.94  166.92  13738473\n",
       "2019-06-07  168.00  171.61  167.80  170.05  10529165\n",
       "2019-06-10  171.84  172.02  170.51  170.82   7565924\n",
       "2019-06-11  171.95  172.18  168.42  170.31   6083065\n",
       "2019-06-12  170.38  171.62  169.70  171.59   6772048"
      ]
     },
     "execution_count": 20,
     "metadata": {},
     "output_type": "execute_result"
    }
   ],
   "source": [
    "ticker = 'V'\n",
    "df_dict[ticker].head()\n",
    "df_dict[ticker].tail()\n"
   ]
  },
  {
   "cell_type": "code",
   "execution_count": 100,
   "metadata": {},
   "outputs": [
    {
     "data": {
      "text/plain": [
       "86"
      ]
     },
     "execution_count": 100,
     "metadata": {},
     "output_type": "execute_result"
    },
    {
     "name": "stdout",
     "output_type": "stream",
     "text": [
      "APD\tAir Products & Chemicals Inc\n",
      "AEP\tAmerican Electric Power\n",
      "AMT\tAmerican Tower Corp A\n",
      "AVB\tAvalonBay Communities, Inc.\n",
      "CPB\tCampbell Soup\n",
      "ES\tEversource Energy\n",
      "FIS\tFidelity National Information Services\n",
      "HRS\tHarris Corporation\n",
      "HIG\tHartford Financial Svc.Gp.\n",
      "IR\tIngersoll-Rand PLC\n",
      "LLL\tL-3 Communications Holdings\n",
      "LM\tLegg Mason\n",
      "LMT\tLockheed Martin Corp.\n",
      "L\tLoews Corp.\n",
      "MMC\tMarsh & McLennan\n",
      "NEE\tNextEra Energy\n",
      "PGR\tProgressive Corp.\n",
      "PSA\tPublic Storage\n",
      "SO\tSouthern Co.\n",
      "DIS\tThe Walt Disney Company\n",
      "WEC\tWec Energy Group Inc\n",
      "XEL\tXcel Energy Inc\n"
     ]
    }
   ],
   "source": [
    "len(stocks_beat_SPY)\n",
    "for ticker in stocks_beat_SPY:\n",
    "    df = df_dict[ticker]\n",
    "    closing_prices = df.close\n",
    "    if (percent_change(closing_prices[-5], closing_prices[-1]) < 0 and\n",
    "        percent_change(closing_prices[-61], closing_prices[-1]) > 0):\n",
    "        try:\n",
    "            print(\"{}\\t{}\".format(ticker, ticker_name_dict[ticker]))\n",
    "        except KeyError:\n",
    "            print(ticker, \"not found\")\n",
    "#         break\n",
    "    "
   ]
  },
  {
   "cell_type": "code",
   "execution_count": 101,
   "metadata": {},
   "outputs": [
    {
     "name": "stdout",
     "output_type": "stream",
     "text": [
      "ABT\tAbbott Laboratories\n",
      "ACN\tAccenture plc\n",
      "ADBE\tAdobe Systems Inc\n",
      "AFL\tAFLAC Inc\n",
      "APD\tAir Products & Chemicals Inc\n",
      "ALLE\tAllegion\n",
      "ALL\tAllstate Corp\n",
      "AEE\tAmeren Corp\n",
      "AEP\tAmerican Electric Power\n",
      "AXP\tAmerican Express Co\n",
      "AMT\tAmerican Tower Corp A\n",
      "AON\tAon plc\n",
      "ADP\tAutomatic Data Processing\n",
      "AZO\tAutoZone Inc\n",
      "AVB\tAvalonBay Communities, Inc.\n",
      "BLL\tBall Corp\n",
      "CPB\tCampbell Soup\n",
      "KMX\tCarmax Inc\n",
      "CERN\tCerner\n",
      "CMG\tChipotle Mexican Grill\n",
      "CB\tChubb Limited\n",
      "CINF\tCincinnati Financial\n",
      "CTAS\tCintas Corporation\n",
      "COST\tCostco Wholesale Corp.\n",
      "CCI\tCrown Castle International Corp.\n",
      "DHR\tDanaher Corp.\n",
      "XRAY\tDentsply Sirona\n",
      "DG\tDollar General\n",
      "DOV\tDover Corp.\n",
      "ECL\tEcolab Inc.\n",
      "ETR\tEntergy Corp.\n",
      "EQIX\tEquinix\n",
      "ESS\tEssex Property Trust, Inc.\n",
      "EL\tEstee Lauder Cos.\n",
      "ES\tEversource Energy\n",
      "FIS\tFidelity National Information Services\n",
      "HRS\tHarris Corporation\n",
      "HIG\tHartford Financial Svc.Gp.\n",
      "HAS\tHasbro Inc.\n",
      "HON\tHoneywell Int'l Inc.\n",
      "IR\tIngersoll-Rand PLC\n",
      "ICE\tIntercontinental Exchange\n",
      "KMB\tKimberly-Clark\n",
      "LLL\tL-3 Communications Holdings\n",
      "LM\tLegg Mason\n",
      "LMT\tLockheed Martin Corp.\n",
      "L\tLoews Corp.\n",
      "MMC\tMarsh & McLennan\n",
      "MA\tMastercard Inc.\n",
      "MCD\tMcDonald's Corp.\n",
      "MET\tMetLife Inc.\n",
      "MSFT\tMicrosoft Corp.\n",
      "MDLZ\tMondelez International\n",
      "MNST\tMonster Beverage\n",
      "MCO\tMoody's Corp\n",
      "MSI\tMotorola Solutions Inc.\n",
      "NEE\tNextEra Energy\n",
      "PAYX\tPaychex Inc.\n",
      "PEP\tPepsiCo Inc.\n",
      "PPG\tPPG Industries\n",
      "PG\tProcter & Gamble\n",
      "PGR\tProgressive Corp.\n",
      "PLD\tPrologis\n",
      "PSA\tPublic Storage\n",
      "RSG\tRepublic Services Inc\n",
      "ROP\tRoper Technologies\n",
      "SRE\tSempra Energy\n",
      "SHW\tSherwin-Williams\n",
      "SO\tSouthern Co.\n",
      "SE\tSea Limited\n",
      "SBUX\tStarbucks Corp.\n",
      "HSY\tThe Hershey Company\n",
      "TRV\tThe Travelers Companies Inc.\n",
      "TMO\tThermo Fisher Scientific\n",
      "TSS\tTotal System Services\n",
      "TSCO\tTractor Supply Company\n",
      "TSN\tTyson Foods\n",
      "VRSN\tVerisign Inc.\n",
      "V\tVisa Inc.\n",
      "DIS\tThe Walt Disney Company\n",
      "WM\tWaste Management Inc.\n",
      "WEC\tWec Energy Group Inc\n",
      "XEL\tXcel Energy Inc\n",
      "XRX\tXerox Corp.\n",
      "YUM\tYum! Brands Inc\n",
      "ZTS\tZoetis\n"
     ]
    }
   ],
   "source": [
    "for ticker in stocks_beat_SPY:\n",
    "    print(\"{}\\t{}\".format(ticker, ticker_name_dict[ticker]))\n"
   ]
  }
 ],
 "metadata": {
  "kernelspec": {
   "display_name": "Python 3",
   "language": "python",
   "name": "python3"
  },
  "language_info": {
   "codemirror_mode": {
    "name": "ipython",
    "version": 3
   },
   "file_extension": ".py",
   "mimetype": "text/x-python",
   "name": "python",
   "nbconvert_exporter": "python",
   "pygments_lexer": "ipython3",
   "version": "3.7.3"
  }
 },
 "nbformat": 4,
 "nbformat_minor": 2
}
